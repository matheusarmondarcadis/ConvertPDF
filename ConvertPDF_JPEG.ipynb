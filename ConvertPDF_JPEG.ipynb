{
  "nbformat": 4,
  "nbformat_minor": 0,
  "metadata": {
    "colab": {
      "provenance": [],
      "mount_file_id": "14k8JSJfcmmm-3PF7uFYXEvk7vxuL9JyX",
      "authorship_tag": "ABX9TyPHF7xHht0B5MItbNw1ymLz",
      "include_colab_link": true
    },
    "kernelspec": {
      "name": "python3",
      "display_name": "Python 3"
    },
    "language_info": {
      "name": "python"
    }
  },
  "cells": [
    {
      "cell_type": "markdown",
      "metadata": {
        "id": "view-in-github",
        "colab_type": "text"
      },
      "source": [
        "<a href=\"https://colab.research.google.com/github/matheusarmondarcadis/ConvertPDF/blob/main/ConvertPDF_JPEG.ipynb\" target=\"_parent\"><img src=\"https://colab.research.google.com/assets/colab-badge.svg\" alt=\"Open In Colab\"/></a>"
      ]
    },
    {
      "source": [
        "!apt-get install poppler-utils\n",
        "import os\n",
        "from pdf2image import convert_from_path\n",
        "\n",
        "# Path to the PDF file (first upload it to you drive and copy the path)\n",
        "file_path = \"/content/drive/MyDrive/Colab Notebooks/ConvertPDF/1.06.01.08963-VALE-PLANO-BI-0001-Gráficos de Necessidade de Água.pdf\"\n",
        "\n",
        "# Check if the file exists\n",
        "if os.path.exists(file_path):\n",
        "    images = convert_from_path(file_path)\n",
        "\n",
        "    for i, image in enumerate(images):\n",
        "        # Save each image with the original PDF name and page number starting from 1\n",
        "        pdf_name = os.path.splitext(os.path.basename(file_path))[0]\n",
        "        image.save(f\"{os.path.dirname(file_path)}/{pdf_name}-pagina-{i + 1}.jpg\", \"JPEG\")\n",
        "else:\n",
        "    print(\"Error: The specified file does not exist.\")"
      ],
      "cell_type": "code",
      "metadata": {
        "id": "ObWda7wOCMdq"
      },
      "execution_count": null,
      "outputs": []
    }
  ]
}