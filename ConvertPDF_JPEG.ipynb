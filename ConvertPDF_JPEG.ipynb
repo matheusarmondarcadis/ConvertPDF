{
  "nbformat": 4,
  "nbformat_minor": 0,
  "metadata": {
    "colab": {
      "provenance": [],
      "mount_file_id": "14k8JSJfcmmm-3PF7uFYXEvk7vxuL9JyX",
      "authorship_tag": "ABX9TyMdtnmmr6ZrteP2zEa6s9pw",
      "include_colab_link": true
    },
    "kernelspec": {
      "name": "python3",
      "display_name": "Python 3"
    },
    "language_info": {
      "name": "python"
    }
  },
  "cells": [
    {
      "cell_type": "markdown",
      "metadata": {
        "id": "view-in-github",
        "colab_type": "text"
      },
      "source": [
        "<a href=\"https://colab.research.google.com/github/matheusarmondarcadis/ConvertPDF/blob/main/ConvertPDF_JPEG.ipynb\" target=\"_parent\"><img src=\"https://colab.research.google.com/assets/colab-badge.svg\" alt=\"Open In Colab\"/></a>"
      ]
    },
    {
      "source": [
        "# Update package lists and install poppler-utils\n",
        "!pip install pdf2image\n",
        "!apt-get update\n",
        "!apt install poppler-utils\n",
        "\n",
        "import os\n",
        "from pdf2image import convert_from_path\n",
        "from PIL import Image\n",
        "\n",
        "# Path to the PDF file\n",
        "file_path = '/content'\n",
        "\n",
        "# Check if the file exists\n",
        "if os.path.exists(file_path):\n",
        "    images = convert_from_path(file_path)\n",
        "\n",
        "    for i, image in enumerate(images):\n",
        "        # Save each image with the original PDF name and page number starting from 1 in JPEG format\n",
        "        pdf_name = os.path.splitext(os.path.basename(file_path))[0]\n",
        "        image.save(f'/content/drive/MyDrive/Colab Notebooks/{pdf_name}-page-{i + 1}.jpg', 'JPEG')\n",
        "else:\n",
        "    print('Error: The specified file does not exist.')"
      ],
      "cell_type": "code",
      "metadata": {
        "id": "ObWda7wOCMdq"
      },
      "execution_count": null,
      "outputs": []
    },
    {
      "cell_type": "code",
      "source": [],
      "metadata": {
        "id": "QnpHc9Cl6AsD"
      },
      "execution_count": null,
      "outputs": []
    }
  ]
}